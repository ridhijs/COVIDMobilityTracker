{
 "cells": [
  {
   "cell_type": "code",
   "execution_count": 8,
   "metadata": {},
   "outputs": [
    {
     "data": {
      "text/html": [
       "        <script type=\"text/javascript\">\n",
       "        window.PlotlyConfig = {MathJaxConfig: 'local'};\n",
       "        if (window.MathJax) {MathJax.Hub.Config({SVG: {font: \"STIX-Web\"}});}\n",
       "        if (typeof require !== 'undefined') {\n",
       "        require.undef(\"plotly\");\n",
       "        requirejs.config({\n",
       "            paths: {\n",
       "                'plotly': ['https://cdn.plot.ly/plotly-latest.min']\n",
       "            }\n",
       "        });\n",
       "        require(['plotly'], function(Plotly) {\n",
       "            window._Plotly = Plotly;\n",
       "        });\n",
       "        }\n",
       "        </script>\n",
       "        "
      ]
     },
     "metadata": {},
     "output_type": "display_data"
    },
    {
     "data": {
      "text/html": [
       "        <script type=\"text/javascript\">\n",
       "        window.PlotlyConfig = {MathJaxConfig: 'local'};\n",
       "        if (window.MathJax) {MathJax.Hub.Config({SVG: {font: \"STIX-Web\"}});}\n",
       "        if (typeof require !== 'undefined') {\n",
       "        require.undef(\"plotly\");\n",
       "        requirejs.config({\n",
       "            paths: {\n",
       "                'plotly': ['https://cdn.plot.ly/plotly-latest.min']\n",
       "            }\n",
       "        });\n",
       "        require(['plotly'], function(Plotly) {\n",
       "            window._Plotly = Plotly;\n",
       "        });\n",
       "        }\n",
       "        </script>\n",
       "        "
      ]
     },
     "metadata": {},
     "output_type": "display_data"
    }
   ],
   "source": [
    "# Import Libraries\n",
    "import numpy as np \n",
    "import pandas as pd \n",
    "#Import plotly libraries\n",
    "import chart_studio.plotly as py\n",
    "import plotly.tools as tls\n",
    "import plotly.graph_objs as go\n",
    "import plotly\n",
    "import chart_studio.plotly as py\n",
    "import plotly.figure_factory as ff\n",
    "from plotly.offline import init_notebook_mode, iplot\n",
    "init_notebook_mode(connected=True)\n",
    "plotly.offline.init_notebook_mode(connected=True)"
   ]
  },
  {
   "cell_type": "code",
   "execution_count": 10,
   "metadata": {},
   "outputs": [],
   "source": [
    "states= pd.read_csv('D:\\MIT Covid 19 challenge/Mobility_NewYork.csv')"
   ]
  },
  {
   "cell_type": "code",
   "execution_count": 14,
   "metadata": {},
   "outputs": [
    {
     "data": {
      "text/html": [
       "<div>\n",
       "<style scoped>\n",
       "    .dataframe tbody tr th:only-of-type {\n",
       "        vertical-align: middle;\n",
       "    }\n",
       "\n",
       "    .dataframe tbody tr th {\n",
       "        vertical-align: top;\n",
       "    }\n",
       "\n",
       "    .dataframe thead th {\n",
       "        text-align: right;\n",
       "    }\n",
       "</style>\n",
       "<table border=\"1\" class=\"dataframe\">\n",
       "  <thead>\n",
       "    <tr style=\"text-align: right;\">\n",
       "      <th></th>\n",
       "      <th>Unnamed: 0</th>\n",
       "      <th>Places</th>\n",
       "      <th>Latitude</th>\n",
       "      <th>Longitude</th>\n",
       "      <th>Mobility</th>\n",
       "    </tr>\n",
       "  </thead>\n",
       "  <tbody>\n",
       "    <tr>\n",
       "      <th>0</th>\n",
       "      <td>0</td>\n",
       "      <td>United States New York Valencia County</td>\n",
       "      <td>40.712775</td>\n",
       "      <td>-74.005973</td>\n",
       "      <td>-111</td>\n",
       "    </tr>\n",
       "    <tr>\n",
       "      <th>1</th>\n",
       "      <td>1</td>\n",
       "      <td>United States New York Albany County</td>\n",
       "      <td>42.652579</td>\n",
       "      <td>-73.756232</td>\n",
       "      <td>-82</td>\n",
       "    </tr>\n",
       "    <tr>\n",
       "      <th>2</th>\n",
       "      <td>2</td>\n",
       "      <td>United States New York Allegany County</td>\n",
       "      <td>42.312982</td>\n",
       "      <td>-78.019539</td>\n",
       "      <td>-31</td>\n",
       "    </tr>\n",
       "    <tr>\n",
       "      <th>3</th>\n",
       "      <td>3</td>\n",
       "      <td>United States New York Bronx County</td>\n",
       "      <td>40.844782</td>\n",
       "      <td>-73.864827</td>\n",
       "      <td>-168</td>\n",
       "    </tr>\n",
       "    <tr>\n",
       "      <th>4</th>\n",
       "      <td>4</td>\n",
       "      <td>United States New York Broome County</td>\n",
       "      <td>42.179187</td>\n",
       "      <td>-75.853395</td>\n",
       "      <td>35</td>\n",
       "    </tr>\n",
       "    <tr>\n",
       "      <th>5</th>\n",
       "      <td>5</td>\n",
       "      <td>United States New York Cattaraugus County</td>\n",
       "      <td>42.231813</td>\n",
       "      <td>-78.747621</td>\n",
       "      <td>-106</td>\n",
       "    </tr>\n",
       "    <tr>\n",
       "      <th>6</th>\n",
       "      <td>6</td>\n",
       "      <td>United States New York Cayuga County</td>\n",
       "      <td>42.765523</td>\n",
       "      <td>-76.548823</td>\n",
       "      <td>-40</td>\n",
       "    </tr>\n",
       "    <tr>\n",
       "      <th>7</th>\n",
       "      <td>7</td>\n",
       "      <td>United States New York Chautauqua County</td>\n",
       "      <td>42.231283</td>\n",
       "      <td>-79.560344</td>\n",
       "      <td>-66</td>\n",
       "    </tr>\n",
       "    <tr>\n",
       "      <th>8</th>\n",
       "      <td>8</td>\n",
       "      <td>United States New York Chemung County</td>\n",
       "      <td>42.136207</td>\n",
       "      <td>-76.779817</td>\n",
       "      <td>-166</td>\n",
       "    </tr>\n",
       "    <tr>\n",
       "      <th>9</th>\n",
       "      <td>9</td>\n",
       "      <td>United States New York Chenango County</td>\n",
       "      <td>42.497231</td>\n",
       "      <td>-75.620809</td>\n",
       "      <td>-150</td>\n",
       "    </tr>\n",
       "    <tr>\n",
       "      <th>10</th>\n",
       "      <td>10</td>\n",
       "      <td>United States New York Clinton County</td>\n",
       "      <td>44.790420</td>\n",
       "      <td>-73.600582</td>\n",
       "      <td>-155</td>\n",
       "    </tr>\n",
       "    <tr>\n",
       "      <th>11</th>\n",
       "      <td>11</td>\n",
       "      <td>United States New York Columbia County</td>\n",
       "      <td>42.367876</td>\n",
       "      <td>-73.559413</td>\n",
       "      <td>-129</td>\n",
       "    </tr>\n",
       "    <tr>\n",
       "      <th>12</th>\n",
       "      <td>12</td>\n",
       "      <td>United States New York Cortland County</td>\n",
       "      <td>42.544092</td>\n",
       "      <td>-75.992765</td>\n",
       "      <td>-144</td>\n",
       "    </tr>\n",
       "    <tr>\n",
       "      <th>13</th>\n",
       "      <td>13</td>\n",
       "      <td>United States New York Delaware County</td>\n",
       "      <td>42.245208</td>\n",
       "      <td>-74.874105</td>\n",
       "      <td>-113</td>\n",
       "    </tr>\n",
       "    <tr>\n",
       "      <th>14</th>\n",
       "      <td>14</td>\n",
       "      <td>United States New York Dutchess County</td>\n",
       "      <td>41.778437</td>\n",
       "      <td>-73.747786</td>\n",
       "      <td>15</td>\n",
       "    </tr>\n",
       "    <tr>\n",
       "      <th>15</th>\n",
       "      <td>15</td>\n",
       "      <td>United States New York Erie County</td>\n",
       "      <td>42.902396</td>\n",
       "      <td>-78.866159</td>\n",
       "      <td>19</td>\n",
       "    </tr>\n",
       "    <tr>\n",
       "      <th>16</th>\n",
       "      <td>16</td>\n",
       "      <td>United States New York Essex County</td>\n",
       "      <td>44.010741</td>\n",
       "      <td>-73.950773</td>\n",
       "      <td>-19</td>\n",
       "    </tr>\n",
       "    <tr>\n",
       "      <th>17</th>\n",
       "      <td>17</td>\n",
       "      <td>United States New York Franklin County</td>\n",
       "      <td>44.592613</td>\n",
       "      <td>-74.338780</td>\n",
       "      <td>-12</td>\n",
       "    </tr>\n",
       "    <tr>\n",
       "      <th>18</th>\n",
       "      <td>18</td>\n",
       "      <td>United States New York Fulton County</td>\n",
       "      <td>43.111874</td>\n",
       "      <td>-74.499452</td>\n",
       "      <td>-24</td>\n",
       "    </tr>\n",
       "    <tr>\n",
       "      <th>19</th>\n",
       "      <td>19</td>\n",
       "      <td>United States New York Genesee County</td>\n",
       "      <td>42.983784</td>\n",
       "      <td>-78.156443</td>\n",
       "      <td>-34</td>\n",
       "    </tr>\n",
       "    <tr>\n",
       "      <th>20</th>\n",
       "      <td>20</td>\n",
       "      <td>United States New York Greene County</td>\n",
       "      <td>42.295732</td>\n",
       "      <td>-74.123996</td>\n",
       "      <td>-55</td>\n",
       "    </tr>\n",
       "    <tr>\n",
       "      <th>21</th>\n",
       "      <td>21</td>\n",
       "      <td>United States New York Herkimer County</td>\n",
       "      <td>43.163059</td>\n",
       "      <td>-74.874105</td>\n",
       "      <td>-59</td>\n",
       "    </tr>\n",
       "    <tr>\n",
       "      <th>22</th>\n",
       "      <td>22</td>\n",
       "      <td>United States New York Jefferson County</td>\n",
       "      <td>44.060742</td>\n",
       "      <td>-75.992765</td>\n",
       "      <td>-106</td>\n",
       "    </tr>\n",
       "    <tr>\n",
       "      <th>23</th>\n",
       "      <td>23</td>\n",
       "      <td>United States New York Kings County</td>\n",
       "      <td>40.652876</td>\n",
       "      <td>-73.959494</td>\n",
       "      <td>-95</td>\n",
       "    </tr>\n",
       "    <tr>\n",
       "      <th>24</th>\n",
       "      <td>24</td>\n",
       "      <td>United States New York Lewis County</td>\n",
       "      <td>43.840112</td>\n",
       "      <td>-75.434473</td>\n",
       "      <td>-40</td>\n",
       "    </tr>\n",
       "    <tr>\n",
       "      <th>25</th>\n",
       "      <td>25</td>\n",
       "      <td>United States New York Livingston County</td>\n",
       "      <td>42.757692</td>\n",
       "      <td>-77.836728</td>\n",
       "      <td>-10</td>\n",
       "    </tr>\n",
       "    <tr>\n",
       "      <th>26</th>\n",
       "      <td>26</td>\n",
       "      <td>United States New York Madison County</td>\n",
       "      <td>42.980597</td>\n",
       "      <td>-75.806908</td>\n",
       "      <td>-15</td>\n",
       "    </tr>\n",
       "    <tr>\n",
       "      <th>27</th>\n",
       "      <td>27</td>\n",
       "      <td>United States New York Monroe County</td>\n",
       "      <td>43.284125</td>\n",
       "      <td>-77.745208</td>\n",
       "      <td>49</td>\n",
       "    </tr>\n",
       "    <tr>\n",
       "      <th>28</th>\n",
       "      <td>28</td>\n",
       "      <td>United States New York Montgomery County</td>\n",
       "      <td>42.915521</td>\n",
       "      <td>-74.452563</td>\n",
       "      <td>124</td>\n",
       "    </tr>\n",
       "    <tr>\n",
       "      <th>29</th>\n",
       "      <td>29</td>\n",
       "      <td>United States New York Nassau County</td>\n",
       "      <td>40.654615</td>\n",
       "      <td>-73.559413</td>\n",
       "      <td>14</td>\n",
       "    </tr>\n",
       "    <tr>\n",
       "      <th>...</th>\n",
       "      <td>...</td>\n",
       "      <td>...</td>\n",
       "      <td>...</td>\n",
       "      <td>...</td>\n",
       "      <td>...</td>\n",
       "    </tr>\n",
       "    <tr>\n",
       "      <th>32</th>\n",
       "      <td>32</td>\n",
       "      <td>United States New York Oneida County</td>\n",
       "      <td>43.237180</td>\n",
       "      <td>-75.434473</td>\n",
       "      <td>-69</td>\n",
       "    </tr>\n",
       "    <tr>\n",
       "      <th>33</th>\n",
       "      <td>33</td>\n",
       "      <td>United States New York Onondaga County</td>\n",
       "      <td>43.026819</td>\n",
       "      <td>-76.178374</td>\n",
       "      <td>20</td>\n",
       "    </tr>\n",
       "    <tr>\n",
       "      <th>34</th>\n",
       "      <td>34</td>\n",
       "      <td>United States New York Ontario County</td>\n",
       "      <td>42.850984</td>\n",
       "      <td>-77.286488</td>\n",
       "      <td>-26</td>\n",
       "    </tr>\n",
       "    <tr>\n",
       "      <th>35</th>\n",
       "      <td>35</td>\n",
       "      <td>United States New York Orange County</td>\n",
       "      <td>41.391165</td>\n",
       "      <td>-74.311821</td>\n",
       "      <td>197</td>\n",
       "    </tr>\n",
       "    <tr>\n",
       "      <th>36</th>\n",
       "      <td>36</td>\n",
       "      <td>United States New York Orleans County</td>\n",
       "      <td>43.408862</td>\n",
       "      <td>-78.202039</td>\n",
       "      <td>276</td>\n",
       "    </tr>\n",
       "    <tr>\n",
       "      <th>37</th>\n",
       "      <td>37</td>\n",
       "      <td>United States New York Oswego County</td>\n",
       "      <td>43.482533</td>\n",
       "      <td>-76.178374</td>\n",
       "      <td>-64</td>\n",
       "    </tr>\n",
       "    <tr>\n",
       "      <th>38</th>\n",
       "      <td>38</td>\n",
       "      <td>United States New York Otsego County</td>\n",
       "      <td>42.577978</td>\n",
       "      <td>-75.061115</td>\n",
       "      <td>-119</td>\n",
       "    </tr>\n",
       "    <tr>\n",
       "      <th>39</th>\n",
       "      <td>39</td>\n",
       "      <td>United States New York Putnam County</td>\n",
       "      <td>41.435107</td>\n",
       "      <td>-73.794852</td>\n",
       "      <td>-189</td>\n",
       "    </tr>\n",
       "    <tr>\n",
       "      <th>40</th>\n",
       "      <td>40</td>\n",
       "      <td>United States New York Queens County</td>\n",
       "      <td>40.728224</td>\n",
       "      <td>-73.794852</td>\n",
       "      <td>-44</td>\n",
       "    </tr>\n",
       "    <tr>\n",
       "      <th>41</th>\n",
       "      <td>41</td>\n",
       "      <td>United States New York Rensselaer County</td>\n",
       "      <td>42.673664</td>\n",
       "      <td>-73.559413</td>\n",
       "      <td>-92</td>\n",
       "    </tr>\n",
       "    <tr>\n",
       "      <th>42</th>\n",
       "      <td>42</td>\n",
       "      <td>United States New York Richmond County</td>\n",
       "      <td>40.579532</td>\n",
       "      <td>-74.150201</td>\n",
       "      <td>-147</td>\n",
       "    </tr>\n",
       "    <tr>\n",
       "      <th>43</th>\n",
       "      <td>43</td>\n",
       "      <td>United States New York Rockland County</td>\n",
       "      <td>41.148946</td>\n",
       "      <td>-73.983003</td>\n",
       "      <td>211</td>\n",
       "    </tr>\n",
       "    <tr>\n",
       "      <th>44</th>\n",
       "      <td>44</td>\n",
       "      <td>United States New York Saratoga County</td>\n",
       "      <td>43.032424</td>\n",
       "      <td>-73.935982</td>\n",
       "      <td>88</td>\n",
       "    </tr>\n",
       "    <tr>\n",
       "      <th>45</th>\n",
       "      <td>45</td>\n",
       "      <td>United States New York Schenectady County</td>\n",
       "      <td>42.849345</td>\n",
       "      <td>-73.983003</td>\n",
       "      <td>-119</td>\n",
       "    </tr>\n",
       "    <tr>\n",
       "      <th>46</th>\n",
       "      <td>46</td>\n",
       "      <td>United States New York Schoharie County</td>\n",
       "      <td>42.655034</td>\n",
       "      <td>-74.499452</td>\n",
       "      <td>-109</td>\n",
       "    </tr>\n",
       "    <tr>\n",
       "      <th>47</th>\n",
       "      <td>47</td>\n",
       "      <td>United States New York Schuyler County</td>\n",
       "      <td>42.379642</td>\n",
       "      <td>-76.872096</td>\n",
       "      <td>-128</td>\n",
       "    </tr>\n",
       "    <tr>\n",
       "      <th>48</th>\n",
       "      <td>48</td>\n",
       "      <td>United States New York Seneca County</td>\n",
       "      <td>42.765189</td>\n",
       "      <td>-76.872096</td>\n",
       "      <td>-137</td>\n",
       "    </tr>\n",
       "    <tr>\n",
       "      <th>49</th>\n",
       "      <td>49</td>\n",
       "      <td>United States New York St. Lawrence County</td>\n",
       "      <td>44.447314</td>\n",
       "      <td>-74.930206</td>\n",
       "      <td>-109</td>\n",
       "    </tr>\n",
       "    <tr>\n",
       "      <th>50</th>\n",
       "      <td>50</td>\n",
       "      <td>United States New York Steuben County</td>\n",
       "      <td>42.321027</td>\n",
       "      <td>-77.378379</td>\n",
       "      <td>-114</td>\n",
       "    </tr>\n",
       "    <tr>\n",
       "      <th>51</th>\n",
       "      <td>51</td>\n",
       "      <td>United States New York Suffolk County</td>\n",
       "      <td>40.984878</td>\n",
       "      <td>-72.615117</td>\n",
       "      <td>113</td>\n",
       "    </tr>\n",
       "    <tr>\n",
       "      <th>52</th>\n",
       "      <td>52</td>\n",
       "      <td>United States New York Sullivan County</td>\n",
       "      <td>41.689749</td>\n",
       "      <td>-74.780519</td>\n",
       "      <td>189</td>\n",
       "    </tr>\n",
       "    <tr>\n",
       "      <th>53</th>\n",
       "      <td>53</td>\n",
       "      <td>United States New York Tioga County</td>\n",
       "      <td>42.125632</td>\n",
       "      <td>-76.363729</td>\n",
       "      <td>142</td>\n",
       "    </tr>\n",
       "    <tr>\n",
       "      <th>54</th>\n",
       "      <td>54</td>\n",
       "      <td>United States New York Tompkins County</td>\n",
       "      <td>42.457575</td>\n",
       "      <td>-76.548823</td>\n",
       "      <td>-174</td>\n",
       "    </tr>\n",
       "    <tr>\n",
       "      <th>55</th>\n",
       "      <td>55</td>\n",
       "      <td>United States New York Ulster County</td>\n",
       "      <td>41.858649</td>\n",
       "      <td>-74.311821</td>\n",
       "      <td>76</td>\n",
       "    </tr>\n",
       "    <tr>\n",
       "      <th>56</th>\n",
       "      <td>56</td>\n",
       "      <td>United States New York Warren County</td>\n",
       "      <td>43.607889</td>\n",
       "      <td>-73.747786</td>\n",
       "      <td>-34</td>\n",
       "    </tr>\n",
       "    <tr>\n",
       "      <th>57</th>\n",
       "      <td>57</td>\n",
       "      <td>United States New York Washington County</td>\n",
       "      <td>43.251947</td>\n",
       "      <td>-73.370870</td>\n",
       "      <td>-29</td>\n",
       "    </tr>\n",
       "    <tr>\n",
       "      <th>58</th>\n",
       "      <td>58</td>\n",
       "      <td>United States New York Wayne County</td>\n",
       "      <td>43.202002</td>\n",
       "      <td>-77.010385</td>\n",
       "      <td>-28</td>\n",
       "    </tr>\n",
       "    <tr>\n",
       "      <th>59</th>\n",
       "      <td>59</td>\n",
       "      <td>United States New York Westchester County</td>\n",
       "      <td>41.122019</td>\n",
       "      <td>-73.794852</td>\n",
       "      <td>-112</td>\n",
       "    </tr>\n",
       "    <tr>\n",
       "      <th>60</th>\n",
       "      <td>60</td>\n",
       "      <td>United States New York Wyoming County</td>\n",
       "      <td>42.826450</td>\n",
       "      <td>-78.089733</td>\n",
       "      <td>-55</td>\n",
       "    </tr>\n",
       "    <tr>\n",
       "      <th>61</th>\n",
       "      <td>61</td>\n",
       "      <td>United States New York Yates County</td>\n",
       "      <td>42.643085</td>\n",
       "      <td>-77.148516</td>\n",
       "      <td>-33</td>\n",
       "    </tr>\n",
       "  </tbody>\n",
       "</table>\n",
       "<p>62 rows × 5 columns</p>\n",
       "</div>"
      ],
      "text/plain": [
       "    Unnamed: 0                                       Places   Latitude  \\\n",
       "0            0      United States New York Valencia County   40.712775   \n",
       "1            1        United States New York Albany County   42.652579   \n",
       "2            2      United States New York Allegany County   42.312982   \n",
       "3            3         United States New York Bronx County   40.844782   \n",
       "4            4        United States New York Broome County   42.179187   \n",
       "5            5   United States New York Cattaraugus County   42.231813   \n",
       "6            6        United States New York Cayuga County   42.765523   \n",
       "7            7    United States New York Chautauqua County   42.231283   \n",
       "8            8       United States New York Chemung County   42.136207   \n",
       "9            9      United States New York Chenango County   42.497231   \n",
       "10          10       United States New York Clinton County   44.790420   \n",
       "11          11      United States New York Columbia County   42.367876   \n",
       "12          12      United States New York Cortland County   42.544092   \n",
       "13          13      United States New York Delaware County   42.245208   \n",
       "14          14      United States New York Dutchess County   41.778437   \n",
       "15          15          United States New York Erie County   42.902396   \n",
       "16          16         United States New York Essex County   44.010741   \n",
       "17          17      United States New York Franklin County   44.592613   \n",
       "18          18        United States New York Fulton County   43.111874   \n",
       "19          19       United States New York Genesee County   42.983784   \n",
       "20          20        United States New York Greene County   42.295732   \n",
       "21          21      United States New York Herkimer County   43.163059   \n",
       "22          22     United States New York Jefferson County   44.060742   \n",
       "23          23         United States New York Kings County   40.652876   \n",
       "24          24         United States New York Lewis County   43.840112   \n",
       "25          25    United States New York Livingston County   42.757692   \n",
       "26          26       United States New York Madison County   42.980597   \n",
       "27          27        United States New York Monroe County   43.284125   \n",
       "28          28    United States New York Montgomery County   42.915521   \n",
       "29          29        United States New York Nassau County   40.654615   \n",
       "..         ...                                          ...        ...   \n",
       "32          32        United States New York Oneida County   43.237180   \n",
       "33          33      United States New York Onondaga County   43.026819   \n",
       "34          34       United States New York Ontario County   42.850984   \n",
       "35          35        United States New York Orange County   41.391165   \n",
       "36          36       United States New York Orleans County   43.408862   \n",
       "37          37        United States New York Oswego County   43.482533   \n",
       "38          38        United States New York Otsego County   42.577978   \n",
       "39          39        United States New York Putnam County   41.435107   \n",
       "40          40        United States New York Queens County   40.728224   \n",
       "41          41    United States New York Rensselaer County   42.673664   \n",
       "42          42      United States New York Richmond County   40.579532   \n",
       "43          43      United States New York Rockland County   41.148946   \n",
       "44          44      United States New York Saratoga County   43.032424   \n",
       "45          45   United States New York Schenectady County   42.849345   \n",
       "46          46     United States New York Schoharie County   42.655034   \n",
       "47          47      United States New York Schuyler County   42.379642   \n",
       "48          48        United States New York Seneca County   42.765189   \n",
       "49          49  United States New York St. Lawrence County   44.447314   \n",
       "50          50       United States New York Steuben County   42.321027   \n",
       "51          51       United States New York Suffolk County   40.984878   \n",
       "52          52      United States New York Sullivan County   41.689749   \n",
       "53          53         United States New York Tioga County   42.125632   \n",
       "54          54      United States New York Tompkins County   42.457575   \n",
       "55          55        United States New York Ulster County   41.858649   \n",
       "56          56        United States New York Warren County   43.607889   \n",
       "57          57    United States New York Washington County   43.251947   \n",
       "58          58         United States New York Wayne County   43.202002   \n",
       "59          59   United States New York Westchester County   41.122019   \n",
       "60          60       United States New York Wyoming County   42.826450   \n",
       "61          61         United States New York Yates County   42.643085   \n",
       "\n",
       "    Longitude  Mobility  \n",
       "0  -74.005973      -111  \n",
       "1  -73.756232       -82  \n",
       "2  -78.019539       -31  \n",
       "3  -73.864827      -168  \n",
       "4  -75.853395        35  \n",
       "5  -78.747621      -106  \n",
       "6  -76.548823       -40  \n",
       "7  -79.560344       -66  \n",
       "8  -76.779817      -166  \n",
       "9  -75.620809      -150  \n",
       "10 -73.600582      -155  \n",
       "11 -73.559413      -129  \n",
       "12 -75.992765      -144  \n",
       "13 -74.874105      -113  \n",
       "14 -73.747786        15  \n",
       "15 -78.866159        19  \n",
       "16 -73.950773       -19  \n",
       "17 -74.338780       -12  \n",
       "18 -74.499452       -24  \n",
       "19 -78.156443       -34  \n",
       "20 -74.123996       -55  \n",
       "21 -74.874105       -59  \n",
       "22 -75.992765      -106  \n",
       "23 -73.959494       -95  \n",
       "24 -75.434473       -40  \n",
       "25 -77.836728       -10  \n",
       "26 -75.806908       -15  \n",
       "27 -77.745208        49  \n",
       "28 -74.452563       124  \n",
       "29 -73.559413        14  \n",
       "..        ...       ...  \n",
       "32 -75.434473       -69  \n",
       "33 -76.178374        20  \n",
       "34 -77.286488       -26  \n",
       "35 -74.311821       197  \n",
       "36 -78.202039       276  \n",
       "37 -76.178374       -64  \n",
       "38 -75.061115      -119  \n",
       "39 -73.794852      -189  \n",
       "40 -73.794852       -44  \n",
       "41 -73.559413       -92  \n",
       "42 -74.150201      -147  \n",
       "43 -73.983003       211  \n",
       "44 -73.935982        88  \n",
       "45 -73.983003      -119  \n",
       "46 -74.499452      -109  \n",
       "47 -76.872096      -128  \n",
       "48 -76.872096      -137  \n",
       "49 -74.930206      -109  \n",
       "50 -77.378379      -114  \n",
       "51 -72.615117       113  \n",
       "52 -74.780519       189  \n",
       "53 -76.363729       142  \n",
       "54 -76.548823      -174  \n",
       "55 -74.311821        76  \n",
       "56 -73.747786       -34  \n",
       "57 -73.370870       -29  \n",
       "58 -77.010385       -28  \n",
       "59 -73.794852      -112  \n",
       "60 -78.089733       -55  \n",
       "61 -77.148516       -33  \n",
       "\n",
       "[62 rows x 5 columns]"
      ]
     },
     "execution_count": 14,
     "metadata": {},
     "output_type": "execute_result"
    }
   ],
   "source": [
    "states"
   ]
  },
  {
   "cell_type": "code",
   "execution_count": 16,
   "metadata": {},
   "outputs": [],
   "source": [
    "states['text']= str(states['Places'])+'Latitude' + str(states['Latitude']) +'<br>'+ 'Longitude' +str(states['Longitude'])+'<br>' + 'Mobility' + str(states['Mobility'])"
   ]
  },
  {
   "cell_type": "code",
   "execution_count": 17,
   "metadata": {},
   "outputs": [
    {
     "data": {
      "text/html": [
       "<div>\n",
       "<style scoped>\n",
       "    .dataframe tbody tr th:only-of-type {\n",
       "        vertical-align: middle;\n",
       "    }\n",
       "\n",
       "    .dataframe tbody tr th {\n",
       "        vertical-align: top;\n",
       "    }\n",
       "\n",
       "    .dataframe thead th {\n",
       "        text-align: right;\n",
       "    }\n",
       "</style>\n",
       "<table border=\"1\" class=\"dataframe\">\n",
       "  <thead>\n",
       "    <tr style=\"text-align: right;\">\n",
       "      <th></th>\n",
       "      <th>Unnamed: 0</th>\n",
       "      <th>Places</th>\n",
       "      <th>Latitude</th>\n",
       "      <th>Longitude</th>\n",
       "      <th>Mobility</th>\n",
       "      <th>text</th>\n",
       "    </tr>\n",
       "  </thead>\n",
       "  <tbody>\n",
       "    <tr>\n",
       "      <th>0</th>\n",
       "      <td>0</td>\n",
       "      <td>United States New York Valencia County</td>\n",
       "      <td>40.712775</td>\n",
       "      <td>-74.005973</td>\n",
       "      <td>-111</td>\n",
       "      <td>0         United States New York Valencia Coun...</td>\n",
       "    </tr>\n",
       "    <tr>\n",
       "      <th>1</th>\n",
       "      <td>1</td>\n",
       "      <td>United States New York Albany County</td>\n",
       "      <td>42.652579</td>\n",
       "      <td>-73.756232</td>\n",
       "      <td>-82</td>\n",
       "      <td>0         United States New York Valencia Coun...</td>\n",
       "    </tr>\n",
       "    <tr>\n",
       "      <th>2</th>\n",
       "      <td>2</td>\n",
       "      <td>United States New York Allegany County</td>\n",
       "      <td>42.312982</td>\n",
       "      <td>-78.019539</td>\n",
       "      <td>-31</td>\n",
       "      <td>0         United States New York Valencia Coun...</td>\n",
       "    </tr>\n",
       "    <tr>\n",
       "      <th>3</th>\n",
       "      <td>3</td>\n",
       "      <td>United States New York Bronx County</td>\n",
       "      <td>40.844782</td>\n",
       "      <td>-73.864827</td>\n",
       "      <td>-168</td>\n",
       "      <td>0         United States New York Valencia Coun...</td>\n",
       "    </tr>\n",
       "    <tr>\n",
       "      <th>4</th>\n",
       "      <td>4</td>\n",
       "      <td>United States New York Broome County</td>\n",
       "      <td>42.179187</td>\n",
       "      <td>-75.853395</td>\n",
       "      <td>35</td>\n",
       "      <td>0         United States New York Valencia Coun...</td>\n",
       "    </tr>\n",
       "    <tr>\n",
       "      <th>5</th>\n",
       "      <td>5</td>\n",
       "      <td>United States New York Cattaraugus County</td>\n",
       "      <td>42.231813</td>\n",
       "      <td>-78.747621</td>\n",
       "      <td>-106</td>\n",
       "      <td>0         United States New York Valencia Coun...</td>\n",
       "    </tr>\n",
       "    <tr>\n",
       "      <th>6</th>\n",
       "      <td>6</td>\n",
       "      <td>United States New York Cayuga County</td>\n",
       "      <td>42.765523</td>\n",
       "      <td>-76.548823</td>\n",
       "      <td>-40</td>\n",
       "      <td>0         United States New York Valencia Coun...</td>\n",
       "    </tr>\n",
       "    <tr>\n",
       "      <th>7</th>\n",
       "      <td>7</td>\n",
       "      <td>United States New York Chautauqua County</td>\n",
       "      <td>42.231283</td>\n",
       "      <td>-79.560344</td>\n",
       "      <td>-66</td>\n",
       "      <td>0         United States New York Valencia Coun...</td>\n",
       "    </tr>\n",
       "    <tr>\n",
       "      <th>8</th>\n",
       "      <td>8</td>\n",
       "      <td>United States New York Chemung County</td>\n",
       "      <td>42.136207</td>\n",
       "      <td>-76.779817</td>\n",
       "      <td>-166</td>\n",
       "      <td>0         United States New York Valencia Coun...</td>\n",
       "    </tr>\n",
       "    <tr>\n",
       "      <th>9</th>\n",
       "      <td>9</td>\n",
       "      <td>United States New York Chenango County</td>\n",
       "      <td>42.497231</td>\n",
       "      <td>-75.620809</td>\n",
       "      <td>-150</td>\n",
       "      <td>0         United States New York Valencia Coun...</td>\n",
       "    </tr>\n",
       "    <tr>\n",
       "      <th>10</th>\n",
       "      <td>10</td>\n",
       "      <td>United States New York Clinton County</td>\n",
       "      <td>44.790420</td>\n",
       "      <td>-73.600582</td>\n",
       "      <td>-155</td>\n",
       "      <td>0         United States New York Valencia Coun...</td>\n",
       "    </tr>\n",
       "    <tr>\n",
       "      <th>11</th>\n",
       "      <td>11</td>\n",
       "      <td>United States New York Columbia County</td>\n",
       "      <td>42.367876</td>\n",
       "      <td>-73.559413</td>\n",
       "      <td>-129</td>\n",
       "      <td>0         United States New York Valencia Coun...</td>\n",
       "    </tr>\n",
       "    <tr>\n",
       "      <th>12</th>\n",
       "      <td>12</td>\n",
       "      <td>United States New York Cortland County</td>\n",
       "      <td>42.544092</td>\n",
       "      <td>-75.992765</td>\n",
       "      <td>-144</td>\n",
       "      <td>0         United States New York Valencia Coun...</td>\n",
       "    </tr>\n",
       "    <tr>\n",
       "      <th>13</th>\n",
       "      <td>13</td>\n",
       "      <td>United States New York Delaware County</td>\n",
       "      <td>42.245208</td>\n",
       "      <td>-74.874105</td>\n",
       "      <td>-113</td>\n",
       "      <td>0         United States New York Valencia Coun...</td>\n",
       "    </tr>\n",
       "    <tr>\n",
       "      <th>14</th>\n",
       "      <td>14</td>\n",
       "      <td>United States New York Dutchess County</td>\n",
       "      <td>41.778437</td>\n",
       "      <td>-73.747786</td>\n",
       "      <td>15</td>\n",
       "      <td>0         United States New York Valencia Coun...</td>\n",
       "    </tr>\n",
       "    <tr>\n",
       "      <th>15</th>\n",
       "      <td>15</td>\n",
       "      <td>United States New York Erie County</td>\n",
       "      <td>42.902396</td>\n",
       "      <td>-78.866159</td>\n",
       "      <td>19</td>\n",
       "      <td>0         United States New York Valencia Coun...</td>\n",
       "    </tr>\n",
       "    <tr>\n",
       "      <th>16</th>\n",
       "      <td>16</td>\n",
       "      <td>United States New York Essex County</td>\n",
       "      <td>44.010741</td>\n",
       "      <td>-73.950773</td>\n",
       "      <td>-19</td>\n",
       "      <td>0         United States New York Valencia Coun...</td>\n",
       "    </tr>\n",
       "    <tr>\n",
       "      <th>17</th>\n",
       "      <td>17</td>\n",
       "      <td>United States New York Franklin County</td>\n",
       "      <td>44.592613</td>\n",
       "      <td>-74.338780</td>\n",
       "      <td>-12</td>\n",
       "      <td>0         United States New York Valencia Coun...</td>\n",
       "    </tr>\n",
       "    <tr>\n",
       "      <th>18</th>\n",
       "      <td>18</td>\n",
       "      <td>United States New York Fulton County</td>\n",
       "      <td>43.111874</td>\n",
       "      <td>-74.499452</td>\n",
       "      <td>-24</td>\n",
       "      <td>0         United States New York Valencia Coun...</td>\n",
       "    </tr>\n",
       "    <tr>\n",
       "      <th>19</th>\n",
       "      <td>19</td>\n",
       "      <td>United States New York Genesee County</td>\n",
       "      <td>42.983784</td>\n",
       "      <td>-78.156443</td>\n",
       "      <td>-34</td>\n",
       "      <td>0         United States New York Valencia Coun...</td>\n",
       "    </tr>\n",
       "    <tr>\n",
       "      <th>20</th>\n",
       "      <td>20</td>\n",
       "      <td>United States New York Greene County</td>\n",
       "      <td>42.295732</td>\n",
       "      <td>-74.123996</td>\n",
       "      <td>-55</td>\n",
       "      <td>0         United States New York Valencia Coun...</td>\n",
       "    </tr>\n",
       "    <tr>\n",
       "      <th>21</th>\n",
       "      <td>21</td>\n",
       "      <td>United States New York Herkimer County</td>\n",
       "      <td>43.163059</td>\n",
       "      <td>-74.874105</td>\n",
       "      <td>-59</td>\n",
       "      <td>0         United States New York Valencia Coun...</td>\n",
       "    </tr>\n",
       "    <tr>\n",
       "      <th>22</th>\n",
       "      <td>22</td>\n",
       "      <td>United States New York Jefferson County</td>\n",
       "      <td>44.060742</td>\n",
       "      <td>-75.992765</td>\n",
       "      <td>-106</td>\n",
       "      <td>0         United States New York Valencia Coun...</td>\n",
       "    </tr>\n",
       "    <tr>\n",
       "      <th>23</th>\n",
       "      <td>23</td>\n",
       "      <td>United States New York Kings County</td>\n",
       "      <td>40.652876</td>\n",
       "      <td>-73.959494</td>\n",
       "      <td>-95</td>\n",
       "      <td>0         United States New York Valencia Coun...</td>\n",
       "    </tr>\n",
       "    <tr>\n",
       "      <th>24</th>\n",
       "      <td>24</td>\n",
       "      <td>United States New York Lewis County</td>\n",
       "      <td>43.840112</td>\n",
       "      <td>-75.434473</td>\n",
       "      <td>-40</td>\n",
       "      <td>0         United States New York Valencia Coun...</td>\n",
       "    </tr>\n",
       "    <tr>\n",
       "      <th>25</th>\n",
       "      <td>25</td>\n",
       "      <td>United States New York Livingston County</td>\n",
       "      <td>42.757692</td>\n",
       "      <td>-77.836728</td>\n",
       "      <td>-10</td>\n",
       "      <td>0         United States New York Valencia Coun...</td>\n",
       "    </tr>\n",
       "    <tr>\n",
       "      <th>26</th>\n",
       "      <td>26</td>\n",
       "      <td>United States New York Madison County</td>\n",
       "      <td>42.980597</td>\n",
       "      <td>-75.806908</td>\n",
       "      <td>-15</td>\n",
       "      <td>0         United States New York Valencia Coun...</td>\n",
       "    </tr>\n",
       "    <tr>\n",
       "      <th>27</th>\n",
       "      <td>27</td>\n",
       "      <td>United States New York Monroe County</td>\n",
       "      <td>43.284125</td>\n",
       "      <td>-77.745208</td>\n",
       "      <td>49</td>\n",
       "      <td>0         United States New York Valencia Coun...</td>\n",
       "    </tr>\n",
       "    <tr>\n",
       "      <th>28</th>\n",
       "      <td>28</td>\n",
       "      <td>United States New York Montgomery County</td>\n",
       "      <td>42.915521</td>\n",
       "      <td>-74.452563</td>\n",
       "      <td>124</td>\n",
       "      <td>0         United States New York Valencia Coun...</td>\n",
       "    </tr>\n",
       "    <tr>\n",
       "      <th>29</th>\n",
       "      <td>29</td>\n",
       "      <td>United States New York Nassau County</td>\n",
       "      <td>40.654615</td>\n",
       "      <td>-73.559413</td>\n",
       "      <td>14</td>\n",
       "      <td>0         United States New York Valencia Coun...</td>\n",
       "    </tr>\n",
       "    <tr>\n",
       "      <th>...</th>\n",
       "      <td>...</td>\n",
       "      <td>...</td>\n",
       "      <td>...</td>\n",
       "      <td>...</td>\n",
       "      <td>...</td>\n",
       "      <td>...</td>\n",
       "    </tr>\n",
       "    <tr>\n",
       "      <th>32</th>\n",
       "      <td>32</td>\n",
       "      <td>United States New York Oneida County</td>\n",
       "      <td>43.237180</td>\n",
       "      <td>-75.434473</td>\n",
       "      <td>-69</td>\n",
       "      <td>0         United States New York Valencia Coun...</td>\n",
       "    </tr>\n",
       "    <tr>\n",
       "      <th>33</th>\n",
       "      <td>33</td>\n",
       "      <td>United States New York Onondaga County</td>\n",
       "      <td>43.026819</td>\n",
       "      <td>-76.178374</td>\n",
       "      <td>20</td>\n",
       "      <td>0         United States New York Valencia Coun...</td>\n",
       "    </tr>\n",
       "    <tr>\n",
       "      <th>34</th>\n",
       "      <td>34</td>\n",
       "      <td>United States New York Ontario County</td>\n",
       "      <td>42.850984</td>\n",
       "      <td>-77.286488</td>\n",
       "      <td>-26</td>\n",
       "      <td>0         United States New York Valencia Coun...</td>\n",
       "    </tr>\n",
       "    <tr>\n",
       "      <th>35</th>\n",
       "      <td>35</td>\n",
       "      <td>United States New York Orange County</td>\n",
       "      <td>41.391165</td>\n",
       "      <td>-74.311821</td>\n",
       "      <td>197</td>\n",
       "      <td>0         United States New York Valencia Coun...</td>\n",
       "    </tr>\n",
       "    <tr>\n",
       "      <th>36</th>\n",
       "      <td>36</td>\n",
       "      <td>United States New York Orleans County</td>\n",
       "      <td>43.408862</td>\n",
       "      <td>-78.202039</td>\n",
       "      <td>276</td>\n",
       "      <td>0         United States New York Valencia Coun...</td>\n",
       "    </tr>\n",
       "    <tr>\n",
       "      <th>37</th>\n",
       "      <td>37</td>\n",
       "      <td>United States New York Oswego County</td>\n",
       "      <td>43.482533</td>\n",
       "      <td>-76.178374</td>\n",
       "      <td>-64</td>\n",
       "      <td>0         United States New York Valencia Coun...</td>\n",
       "    </tr>\n",
       "    <tr>\n",
       "      <th>38</th>\n",
       "      <td>38</td>\n",
       "      <td>United States New York Otsego County</td>\n",
       "      <td>42.577978</td>\n",
       "      <td>-75.061115</td>\n",
       "      <td>-119</td>\n",
       "      <td>0         United States New York Valencia Coun...</td>\n",
       "    </tr>\n",
       "    <tr>\n",
       "      <th>39</th>\n",
       "      <td>39</td>\n",
       "      <td>United States New York Putnam County</td>\n",
       "      <td>41.435107</td>\n",
       "      <td>-73.794852</td>\n",
       "      <td>-189</td>\n",
       "      <td>0         United States New York Valencia Coun...</td>\n",
       "    </tr>\n",
       "    <tr>\n",
       "      <th>40</th>\n",
       "      <td>40</td>\n",
       "      <td>United States New York Queens County</td>\n",
       "      <td>40.728224</td>\n",
       "      <td>-73.794852</td>\n",
       "      <td>-44</td>\n",
       "      <td>0         United States New York Valencia Coun...</td>\n",
       "    </tr>\n",
       "    <tr>\n",
       "      <th>41</th>\n",
       "      <td>41</td>\n",
       "      <td>United States New York Rensselaer County</td>\n",
       "      <td>42.673664</td>\n",
       "      <td>-73.559413</td>\n",
       "      <td>-92</td>\n",
       "      <td>0         United States New York Valencia Coun...</td>\n",
       "    </tr>\n",
       "    <tr>\n",
       "      <th>42</th>\n",
       "      <td>42</td>\n",
       "      <td>United States New York Richmond County</td>\n",
       "      <td>40.579532</td>\n",
       "      <td>-74.150201</td>\n",
       "      <td>-147</td>\n",
       "      <td>0         United States New York Valencia Coun...</td>\n",
       "    </tr>\n",
       "    <tr>\n",
       "      <th>43</th>\n",
       "      <td>43</td>\n",
       "      <td>United States New York Rockland County</td>\n",
       "      <td>41.148946</td>\n",
       "      <td>-73.983003</td>\n",
       "      <td>211</td>\n",
       "      <td>0         United States New York Valencia Coun...</td>\n",
       "    </tr>\n",
       "    <tr>\n",
       "      <th>44</th>\n",
       "      <td>44</td>\n",
       "      <td>United States New York Saratoga County</td>\n",
       "      <td>43.032424</td>\n",
       "      <td>-73.935982</td>\n",
       "      <td>88</td>\n",
       "      <td>0         United States New York Valencia Coun...</td>\n",
       "    </tr>\n",
       "    <tr>\n",
       "      <th>45</th>\n",
       "      <td>45</td>\n",
       "      <td>United States New York Schenectady County</td>\n",
       "      <td>42.849345</td>\n",
       "      <td>-73.983003</td>\n",
       "      <td>-119</td>\n",
       "      <td>0         United States New York Valencia Coun...</td>\n",
       "    </tr>\n",
       "    <tr>\n",
       "      <th>46</th>\n",
       "      <td>46</td>\n",
       "      <td>United States New York Schoharie County</td>\n",
       "      <td>42.655034</td>\n",
       "      <td>-74.499452</td>\n",
       "      <td>-109</td>\n",
       "      <td>0         United States New York Valencia Coun...</td>\n",
       "    </tr>\n",
       "    <tr>\n",
       "      <th>47</th>\n",
       "      <td>47</td>\n",
       "      <td>United States New York Schuyler County</td>\n",
       "      <td>42.379642</td>\n",
       "      <td>-76.872096</td>\n",
       "      <td>-128</td>\n",
       "      <td>0         United States New York Valencia Coun...</td>\n",
       "    </tr>\n",
       "    <tr>\n",
       "      <th>48</th>\n",
       "      <td>48</td>\n",
       "      <td>United States New York Seneca County</td>\n",
       "      <td>42.765189</td>\n",
       "      <td>-76.872096</td>\n",
       "      <td>-137</td>\n",
       "      <td>0         United States New York Valencia Coun...</td>\n",
       "    </tr>\n",
       "    <tr>\n",
       "      <th>49</th>\n",
       "      <td>49</td>\n",
       "      <td>United States New York St. Lawrence County</td>\n",
       "      <td>44.447314</td>\n",
       "      <td>-74.930206</td>\n",
       "      <td>-109</td>\n",
       "      <td>0         United States New York Valencia Coun...</td>\n",
       "    </tr>\n",
       "    <tr>\n",
       "      <th>50</th>\n",
       "      <td>50</td>\n",
       "      <td>United States New York Steuben County</td>\n",
       "      <td>42.321027</td>\n",
       "      <td>-77.378379</td>\n",
       "      <td>-114</td>\n",
       "      <td>0         United States New York Valencia Coun...</td>\n",
       "    </tr>\n",
       "    <tr>\n",
       "      <th>51</th>\n",
       "      <td>51</td>\n",
       "      <td>United States New York Suffolk County</td>\n",
       "      <td>40.984878</td>\n",
       "      <td>-72.615117</td>\n",
       "      <td>113</td>\n",
       "      <td>0         United States New York Valencia Coun...</td>\n",
       "    </tr>\n",
       "    <tr>\n",
       "      <th>52</th>\n",
       "      <td>52</td>\n",
       "      <td>United States New York Sullivan County</td>\n",
       "      <td>41.689749</td>\n",
       "      <td>-74.780519</td>\n",
       "      <td>189</td>\n",
       "      <td>0         United States New York Valencia Coun...</td>\n",
       "    </tr>\n",
       "    <tr>\n",
       "      <th>53</th>\n",
       "      <td>53</td>\n",
       "      <td>United States New York Tioga County</td>\n",
       "      <td>42.125632</td>\n",
       "      <td>-76.363729</td>\n",
       "      <td>142</td>\n",
       "      <td>0         United States New York Valencia Coun...</td>\n",
       "    </tr>\n",
       "    <tr>\n",
       "      <th>54</th>\n",
       "      <td>54</td>\n",
       "      <td>United States New York Tompkins County</td>\n",
       "      <td>42.457575</td>\n",
       "      <td>-76.548823</td>\n",
       "      <td>-174</td>\n",
       "      <td>0         United States New York Valencia Coun...</td>\n",
       "    </tr>\n",
       "    <tr>\n",
       "      <th>55</th>\n",
       "      <td>55</td>\n",
       "      <td>United States New York Ulster County</td>\n",
       "      <td>41.858649</td>\n",
       "      <td>-74.311821</td>\n",
       "      <td>76</td>\n",
       "      <td>0         United States New York Valencia Coun...</td>\n",
       "    </tr>\n",
       "    <tr>\n",
       "      <th>56</th>\n",
       "      <td>56</td>\n",
       "      <td>United States New York Warren County</td>\n",
       "      <td>43.607889</td>\n",
       "      <td>-73.747786</td>\n",
       "      <td>-34</td>\n",
       "      <td>0         United States New York Valencia Coun...</td>\n",
       "    </tr>\n",
       "    <tr>\n",
       "      <th>57</th>\n",
       "      <td>57</td>\n",
       "      <td>United States New York Washington County</td>\n",
       "      <td>43.251947</td>\n",
       "      <td>-73.370870</td>\n",
       "      <td>-29</td>\n",
       "      <td>0         United States New York Valencia Coun...</td>\n",
       "    </tr>\n",
       "    <tr>\n",
       "      <th>58</th>\n",
       "      <td>58</td>\n",
       "      <td>United States New York Wayne County</td>\n",
       "      <td>43.202002</td>\n",
       "      <td>-77.010385</td>\n",
       "      <td>-28</td>\n",
       "      <td>0         United States New York Valencia Coun...</td>\n",
       "    </tr>\n",
       "    <tr>\n",
       "      <th>59</th>\n",
       "      <td>59</td>\n",
       "      <td>United States New York Westchester County</td>\n",
       "      <td>41.122019</td>\n",
       "      <td>-73.794852</td>\n",
       "      <td>-112</td>\n",
       "      <td>0         United States New York Valencia Coun...</td>\n",
       "    </tr>\n",
       "    <tr>\n",
       "      <th>60</th>\n",
       "      <td>60</td>\n",
       "      <td>United States New York Wyoming County</td>\n",
       "      <td>42.826450</td>\n",
       "      <td>-78.089733</td>\n",
       "      <td>-55</td>\n",
       "      <td>0         United States New York Valencia Coun...</td>\n",
       "    </tr>\n",
       "    <tr>\n",
       "      <th>61</th>\n",
       "      <td>61</td>\n",
       "      <td>United States New York Yates County</td>\n",
       "      <td>42.643085</td>\n",
       "      <td>-77.148516</td>\n",
       "      <td>-33</td>\n",
       "      <td>0         United States New York Valencia Coun...</td>\n",
       "    </tr>\n",
       "  </tbody>\n",
       "</table>\n",
       "<p>62 rows × 6 columns</p>\n",
       "</div>"
      ],
      "text/plain": [
       "    Unnamed: 0                                       Places   Latitude  \\\n",
       "0            0      United States New York Valencia County   40.712775   \n",
       "1            1        United States New York Albany County   42.652579   \n",
       "2            2      United States New York Allegany County   42.312982   \n",
       "3            3         United States New York Bronx County   40.844782   \n",
       "4            4        United States New York Broome County   42.179187   \n",
       "5            5   United States New York Cattaraugus County   42.231813   \n",
       "6            6        United States New York Cayuga County   42.765523   \n",
       "7            7    United States New York Chautauqua County   42.231283   \n",
       "8            8       United States New York Chemung County   42.136207   \n",
       "9            9      United States New York Chenango County   42.497231   \n",
       "10          10       United States New York Clinton County   44.790420   \n",
       "11          11      United States New York Columbia County   42.367876   \n",
       "12          12      United States New York Cortland County   42.544092   \n",
       "13          13      United States New York Delaware County   42.245208   \n",
       "14          14      United States New York Dutchess County   41.778437   \n",
       "15          15          United States New York Erie County   42.902396   \n",
       "16          16         United States New York Essex County   44.010741   \n",
       "17          17      United States New York Franklin County   44.592613   \n",
       "18          18        United States New York Fulton County   43.111874   \n",
       "19          19       United States New York Genesee County   42.983784   \n",
       "20          20        United States New York Greene County   42.295732   \n",
       "21          21      United States New York Herkimer County   43.163059   \n",
       "22          22     United States New York Jefferson County   44.060742   \n",
       "23          23         United States New York Kings County   40.652876   \n",
       "24          24         United States New York Lewis County   43.840112   \n",
       "25          25    United States New York Livingston County   42.757692   \n",
       "26          26       United States New York Madison County   42.980597   \n",
       "27          27        United States New York Monroe County   43.284125   \n",
       "28          28    United States New York Montgomery County   42.915521   \n",
       "29          29        United States New York Nassau County   40.654615   \n",
       "..         ...                                          ...        ...   \n",
       "32          32        United States New York Oneida County   43.237180   \n",
       "33          33      United States New York Onondaga County   43.026819   \n",
       "34          34       United States New York Ontario County   42.850984   \n",
       "35          35        United States New York Orange County   41.391165   \n",
       "36          36       United States New York Orleans County   43.408862   \n",
       "37          37        United States New York Oswego County   43.482533   \n",
       "38          38        United States New York Otsego County   42.577978   \n",
       "39          39        United States New York Putnam County   41.435107   \n",
       "40          40        United States New York Queens County   40.728224   \n",
       "41          41    United States New York Rensselaer County   42.673664   \n",
       "42          42      United States New York Richmond County   40.579532   \n",
       "43          43      United States New York Rockland County   41.148946   \n",
       "44          44      United States New York Saratoga County   43.032424   \n",
       "45          45   United States New York Schenectady County   42.849345   \n",
       "46          46     United States New York Schoharie County   42.655034   \n",
       "47          47      United States New York Schuyler County   42.379642   \n",
       "48          48        United States New York Seneca County   42.765189   \n",
       "49          49  United States New York St. Lawrence County   44.447314   \n",
       "50          50       United States New York Steuben County   42.321027   \n",
       "51          51       United States New York Suffolk County   40.984878   \n",
       "52          52      United States New York Sullivan County   41.689749   \n",
       "53          53         United States New York Tioga County   42.125632   \n",
       "54          54      United States New York Tompkins County   42.457575   \n",
       "55          55        United States New York Ulster County   41.858649   \n",
       "56          56        United States New York Warren County   43.607889   \n",
       "57          57    United States New York Washington County   43.251947   \n",
       "58          58         United States New York Wayne County   43.202002   \n",
       "59          59   United States New York Westchester County   41.122019   \n",
       "60          60       United States New York Wyoming County   42.826450   \n",
       "61          61         United States New York Yates County   42.643085   \n",
       "\n",
       "    Longitude  Mobility                                               text  \n",
       "0  -74.005973      -111  0         United States New York Valencia Coun...  \n",
       "1  -73.756232       -82  0         United States New York Valencia Coun...  \n",
       "2  -78.019539       -31  0         United States New York Valencia Coun...  \n",
       "3  -73.864827      -168  0         United States New York Valencia Coun...  \n",
       "4  -75.853395        35  0         United States New York Valencia Coun...  \n",
       "5  -78.747621      -106  0         United States New York Valencia Coun...  \n",
       "6  -76.548823       -40  0         United States New York Valencia Coun...  \n",
       "7  -79.560344       -66  0         United States New York Valencia Coun...  \n",
       "8  -76.779817      -166  0         United States New York Valencia Coun...  \n",
       "9  -75.620809      -150  0         United States New York Valencia Coun...  \n",
       "10 -73.600582      -155  0         United States New York Valencia Coun...  \n",
       "11 -73.559413      -129  0         United States New York Valencia Coun...  \n",
       "12 -75.992765      -144  0         United States New York Valencia Coun...  \n",
       "13 -74.874105      -113  0         United States New York Valencia Coun...  \n",
       "14 -73.747786        15  0         United States New York Valencia Coun...  \n",
       "15 -78.866159        19  0         United States New York Valencia Coun...  \n",
       "16 -73.950773       -19  0         United States New York Valencia Coun...  \n",
       "17 -74.338780       -12  0         United States New York Valencia Coun...  \n",
       "18 -74.499452       -24  0         United States New York Valencia Coun...  \n",
       "19 -78.156443       -34  0         United States New York Valencia Coun...  \n",
       "20 -74.123996       -55  0         United States New York Valencia Coun...  \n",
       "21 -74.874105       -59  0         United States New York Valencia Coun...  \n",
       "22 -75.992765      -106  0         United States New York Valencia Coun...  \n",
       "23 -73.959494       -95  0         United States New York Valencia Coun...  \n",
       "24 -75.434473       -40  0         United States New York Valencia Coun...  \n",
       "25 -77.836728       -10  0         United States New York Valencia Coun...  \n",
       "26 -75.806908       -15  0         United States New York Valencia Coun...  \n",
       "27 -77.745208        49  0         United States New York Valencia Coun...  \n",
       "28 -74.452563       124  0         United States New York Valencia Coun...  \n",
       "29 -73.559413        14  0         United States New York Valencia Coun...  \n",
       "..        ...       ...                                                ...  \n",
       "32 -75.434473       -69  0         United States New York Valencia Coun...  \n",
       "33 -76.178374        20  0         United States New York Valencia Coun...  \n",
       "34 -77.286488       -26  0         United States New York Valencia Coun...  \n",
       "35 -74.311821       197  0         United States New York Valencia Coun...  \n",
       "36 -78.202039       276  0         United States New York Valencia Coun...  \n",
       "37 -76.178374       -64  0         United States New York Valencia Coun...  \n",
       "38 -75.061115      -119  0         United States New York Valencia Coun...  \n",
       "39 -73.794852      -189  0         United States New York Valencia Coun...  \n",
       "40 -73.794852       -44  0         United States New York Valencia Coun...  \n",
       "41 -73.559413       -92  0         United States New York Valencia Coun...  \n",
       "42 -74.150201      -147  0         United States New York Valencia Coun...  \n",
       "43 -73.983003       211  0         United States New York Valencia Coun...  \n",
       "44 -73.935982        88  0         United States New York Valencia Coun...  \n",
       "45 -73.983003      -119  0         United States New York Valencia Coun...  \n",
       "46 -74.499452      -109  0         United States New York Valencia Coun...  \n",
       "47 -76.872096      -128  0         United States New York Valencia Coun...  \n",
       "48 -76.872096      -137  0         United States New York Valencia Coun...  \n",
       "49 -74.930206      -109  0         United States New York Valencia Coun...  \n",
       "50 -77.378379      -114  0         United States New York Valencia Coun...  \n",
       "51 -72.615117       113  0         United States New York Valencia Coun...  \n",
       "52 -74.780519       189  0         United States New York Valencia Coun...  \n",
       "53 -76.363729       142  0         United States New York Valencia Coun...  \n",
       "54 -76.548823      -174  0         United States New York Valencia Coun...  \n",
       "55 -74.311821        76  0         United States New York Valencia Coun...  \n",
       "56 -73.747786       -34  0         United States New York Valencia Coun...  \n",
       "57 -73.370870       -29  0         United States New York Valencia Coun...  \n",
       "58 -77.010385       -28  0         United States New York Valencia Coun...  \n",
       "59 -73.794852      -112  0         United States New York Valencia Coun...  \n",
       "60 -78.089733       -55  0         United States New York Valencia Coun...  \n",
       "61 -77.148516       -33  0         United States New York Valencia Coun...  \n",
       "\n",
       "[62 rows x 6 columns]"
      ]
     },
     "execution_count": 17,
     "metadata": {},
     "output_type": "execute_result"
    }
   ],
   "source": [
    "states"
   ]
  },
  {
   "cell_type": "code",
   "execution_count": 19,
   "metadata": {},
   "outputs": [],
   "source": [
    "data1 = [dict(type='scattergeo',lat = states['Latitude'],lon = states['Longitude'],\n",
    "             marker = dict(size = 9, autocolorscale=False,colorscale = 'Viridis',\n",
    "            color = states['Mobility'], colorbar = dict(title='Mobility Index')))]\n",
    "\n",
    "\n",
    "layout1 = dict(title='MObility Index',\n",
    "              geo = dict(scope='usa',projection = dict(type ='albers usa'),showland = True,\n",
    "                    landcolor=\"rgb(250,250,250)\",subunitcolor = \"rgb(217,217,217)\",\n",
    "                     countrycolor = \"rgb(217,217,217)\",countrywidth =0.5, subunitwidth=0.5))\n"
   ]
  },
  {
   "cell_type": "code",
   "execution_count": 20,
   "metadata": {},
   "outputs": [
    {
     "data": {
      "application/vnd.plotly.v1+json": {
       "config": {
        "linkText": "Export to plot.ly",
        "plotlyServerURL": "https://plot.ly",
        "showLink": false
       },
       "data": [
        {
         "lat": [
          40.7127753,
          42.65257929999999,
          42.3129816,
          40.844781899999994,
          42.1791865,
          42.231813200000005,
          42.7655231,
          42.2312829,
          42.1362071,
          42.497231400000004,
          44.7904203,
          42.367875899999994,
          42.5440918,
          42.2452081,
          41.778437200000006,
          42.9023958,
          44.0107408,
          44.5926135,
          43.111873700000004,
          42.983784299999996,
          42.2957321,
          43.16305870000001,
          44.060742100000006,
          40.6528762,
          43.840112,
          42.757692299999995,
          42.980597499999995,
          43.284124600000006,
          42.915521000000005,
          40.6546145,
          40.783060299999995,
          43.311949600000005,
          43.23717979999999,
          43.026819,
          42.8509838,
          41.3911653,
          43.408862400000004,
          43.482533000000004,
          42.5779779,
          41.435106899999994,
          40.7282239,
          42.673664,
          40.579531700000004,
          41.1489458,
          43.0324245,
          42.8493445,
          42.6550335,
          42.379642499999996,
          42.7651891,
          44.44731420000001,
          42.321027,
          40.9848784,
          41.689749299999995,
          42.12563170000001,
          42.4575747,
          41.858649299999996,
          43.6078891,
          43.251947200000004,
          43.2020024,
          41.1220194,
          42.8264498,
          42.6430846
         ],
         "lon": [
          -74.0059728,
          -73.7562317,
          -78.0195387,
          -73.86482679999999,
          -75.8533954,
          -78.74762079999999,
          -76.5488232,
          -79.560344,
          -76.7798172,
          -75.62080879999999,
          -73.60058240000001,
          -73.5594128,
          -75.9927652,
          -74.8741045,
          -73.74778570000001,
          -78.8661589,
          -73.9507728,
          -74.3387798,
          -74.4994517,
          -78.1564432,
          -74.12399599999999,
          -74.8741045,
          -75.9927652,
          -73.95949399999999,
          -75.4344727,
          -77.8367282,
          -75.80690820000001,
          -77.74520809999999,
          -74.4525627,
          -73.5594128,
          -73.9712488,
          -78.74762079999999,
          -75.4344727,
          -76.17837390000001,
          -77.28648790000001,
          -74.31182120000001,
          -78.2020387,
          -76.17837390000001,
          -75.0611147,
          -73.7948516,
          -73.7948516,
          -73.5594128,
          -74.1502007,
          -73.98300290000002,
          -73.9359821,
          -73.98300290000002,
          -74.4994517,
          -76.8720961,
          -76.8720961,
          -74.93020600000001,
          -77.37837890000002,
          -72.61511690000002,
          -74.7805192,
          -76.36372850000001,
          -76.5488232,
          -74.31182120000001,
          -73.74778570000001,
          -73.3708696,
          -77.010385,
          -73.7948516,
          -78.0897329,
          -77.1485163
         ],
         "marker": {
          "autocolorscale": false,
          "color": [
           -111,
           -82,
           -31,
           -168,
           35,
           -106,
           -40,
           -66,
           -166,
           -150,
           -155,
           -129,
           -144,
           -113,
           15,
           19,
           -19,
           -12,
           -24,
           -34,
           -55,
           -59,
           -106,
           -95,
           -40,
           -10,
           -15,
           49,
           124,
           14,
           -293,
           103,
           -69,
           20,
           -26,
           197,
           276,
           -64,
           -119,
           -189,
           -44,
           -92,
           -147,
           211,
           88,
           -119,
           -109,
           -128,
           -137,
           -109,
           -114,
           113,
           189,
           142,
           -174,
           76,
           -34,
           -29,
           -28,
           -112,
           -55,
           -33
          ],
          "colorbar": {
           "title": {
            "text": "Mobility Index"
           }
          },
          "colorscale": [
           [
            0,
            "#440154"
           ],
           [
            0.1111111111111111,
            "#482878"
           ],
           [
            0.2222222222222222,
            "#3e4989"
           ],
           [
            0.3333333333333333,
            "#31688e"
           ],
           [
            0.4444444444444444,
            "#26828e"
           ],
           [
            0.5555555555555556,
            "#1f9e89"
           ],
           [
            0.6666666666666666,
            "#35b779"
           ],
           [
            0.7777777777777778,
            "#6ece58"
           ],
           [
            0.8888888888888888,
            "#b5de2b"
           ],
           [
            1,
            "#fde725"
           ]
          ],
          "size": 9
         },
         "type": "scattergeo"
        }
       ],
       "layout": {
        "geo": {
         "countrycolor": "rgb(217,217,217)",
         "countrywidth": 0.5,
         "landcolor": "rgb(250,250,250)",
         "projection": {
          "type": "albers usa"
         },
         "scope": "usa",
         "showland": true,
         "subunitcolor": "rgb(217,217,217)",
         "subunitwidth": 0.5
        },
        "template": {
         "data": {
          "bar": [
           {
            "error_x": {
             "color": "#2a3f5f"
            },
            "error_y": {
             "color": "#2a3f5f"
            },
            "marker": {
             "line": {
              "color": "#E5ECF6",
              "width": 0.5
             }
            },
            "type": "bar"
           }
          ],
          "barpolar": [
           {
            "marker": {
             "line": {
              "color": "#E5ECF6",
              "width": 0.5
             }
            },
            "type": "barpolar"
           }
          ],
          "carpet": [
           {
            "aaxis": {
             "endlinecolor": "#2a3f5f",
             "gridcolor": "white",
             "linecolor": "white",
             "minorgridcolor": "white",
             "startlinecolor": "#2a3f5f"
            },
            "baxis": {
             "endlinecolor": "#2a3f5f",
             "gridcolor": "white",
             "linecolor": "white",
             "minorgridcolor": "white",
             "startlinecolor": "#2a3f5f"
            },
            "type": "carpet"
           }
          ],
          "choropleth": [
           {
            "colorbar": {
             "outlinewidth": 0,
             "ticks": ""
            },
            "type": "choropleth"
           }
          ],
          "contour": [
           {
            "colorbar": {
             "outlinewidth": 0,
             "ticks": ""
            },
            "colorscale": [
             [
              0,
              "#0d0887"
             ],
             [
              0.1111111111111111,
              "#46039f"
             ],
             [
              0.2222222222222222,
              "#7201a8"
             ],
             [
              0.3333333333333333,
              "#9c179e"
             ],
             [
              0.4444444444444444,
              "#bd3786"
             ],
             [
              0.5555555555555556,
              "#d8576b"
             ],
             [
              0.6666666666666666,
              "#ed7953"
             ],
             [
              0.7777777777777778,
              "#fb9f3a"
             ],
             [
              0.8888888888888888,
              "#fdca26"
             ],
             [
              1,
              "#f0f921"
             ]
            ],
            "type": "contour"
           }
          ],
          "contourcarpet": [
           {
            "colorbar": {
             "outlinewidth": 0,
             "ticks": ""
            },
            "type": "contourcarpet"
           }
          ],
          "heatmap": [
           {
            "colorbar": {
             "outlinewidth": 0,
             "ticks": ""
            },
            "colorscale": [
             [
              0,
              "#0d0887"
             ],
             [
              0.1111111111111111,
              "#46039f"
             ],
             [
              0.2222222222222222,
              "#7201a8"
             ],
             [
              0.3333333333333333,
              "#9c179e"
             ],
             [
              0.4444444444444444,
              "#bd3786"
             ],
             [
              0.5555555555555556,
              "#d8576b"
             ],
             [
              0.6666666666666666,
              "#ed7953"
             ],
             [
              0.7777777777777778,
              "#fb9f3a"
             ],
             [
              0.8888888888888888,
              "#fdca26"
             ],
             [
              1,
              "#f0f921"
             ]
            ],
            "type": "heatmap"
           }
          ],
          "heatmapgl": [
           {
            "colorbar": {
             "outlinewidth": 0,
             "ticks": ""
            },
            "colorscale": [
             [
              0,
              "#0d0887"
             ],
             [
              0.1111111111111111,
              "#46039f"
             ],
             [
              0.2222222222222222,
              "#7201a8"
             ],
             [
              0.3333333333333333,
              "#9c179e"
             ],
             [
              0.4444444444444444,
              "#bd3786"
             ],
             [
              0.5555555555555556,
              "#d8576b"
             ],
             [
              0.6666666666666666,
              "#ed7953"
             ],
             [
              0.7777777777777778,
              "#fb9f3a"
             ],
             [
              0.8888888888888888,
              "#fdca26"
             ],
             [
              1,
              "#f0f921"
             ]
            ],
            "type": "heatmapgl"
           }
          ],
          "histogram": [
           {
            "marker": {
             "colorbar": {
              "outlinewidth": 0,
              "ticks": ""
             }
            },
            "type": "histogram"
           }
          ],
          "histogram2d": [
           {
            "colorbar": {
             "outlinewidth": 0,
             "ticks": ""
            },
            "colorscale": [
             [
              0,
              "#0d0887"
             ],
             [
              0.1111111111111111,
              "#46039f"
             ],
             [
              0.2222222222222222,
              "#7201a8"
             ],
             [
              0.3333333333333333,
              "#9c179e"
             ],
             [
              0.4444444444444444,
              "#bd3786"
             ],
             [
              0.5555555555555556,
              "#d8576b"
             ],
             [
              0.6666666666666666,
              "#ed7953"
             ],
             [
              0.7777777777777778,
              "#fb9f3a"
             ],
             [
              0.8888888888888888,
              "#fdca26"
             ],
             [
              1,
              "#f0f921"
             ]
            ],
            "type": "histogram2d"
           }
          ],
          "histogram2dcontour": [
           {
            "colorbar": {
             "outlinewidth": 0,
             "ticks": ""
            },
            "colorscale": [
             [
              0,
              "#0d0887"
             ],
             [
              0.1111111111111111,
              "#46039f"
             ],
             [
              0.2222222222222222,
              "#7201a8"
             ],
             [
              0.3333333333333333,
              "#9c179e"
             ],
             [
              0.4444444444444444,
              "#bd3786"
             ],
             [
              0.5555555555555556,
              "#d8576b"
             ],
             [
              0.6666666666666666,
              "#ed7953"
             ],
             [
              0.7777777777777778,
              "#fb9f3a"
             ],
             [
              0.8888888888888888,
              "#fdca26"
             ],
             [
              1,
              "#f0f921"
             ]
            ],
            "type": "histogram2dcontour"
           }
          ],
          "mesh3d": [
           {
            "colorbar": {
             "outlinewidth": 0,
             "ticks": ""
            },
            "type": "mesh3d"
           }
          ],
          "parcoords": [
           {
            "line": {
             "colorbar": {
              "outlinewidth": 0,
              "ticks": ""
             }
            },
            "type": "parcoords"
           }
          ],
          "pie": [
           {
            "automargin": true,
            "type": "pie"
           }
          ],
          "scatter": [
           {
            "marker": {
             "colorbar": {
              "outlinewidth": 0,
              "ticks": ""
             }
            },
            "type": "scatter"
           }
          ],
          "scatter3d": [
           {
            "line": {
             "colorbar": {
              "outlinewidth": 0,
              "ticks": ""
             }
            },
            "marker": {
             "colorbar": {
              "outlinewidth": 0,
              "ticks": ""
             }
            },
            "type": "scatter3d"
           }
          ],
          "scattercarpet": [
           {
            "marker": {
             "colorbar": {
              "outlinewidth": 0,
              "ticks": ""
             }
            },
            "type": "scattercarpet"
           }
          ],
          "scattergeo": [
           {
            "marker": {
             "colorbar": {
              "outlinewidth": 0,
              "ticks": ""
             }
            },
            "type": "scattergeo"
           }
          ],
          "scattergl": [
           {
            "marker": {
             "colorbar": {
              "outlinewidth": 0,
              "ticks": ""
             }
            },
            "type": "scattergl"
           }
          ],
          "scattermapbox": [
           {
            "marker": {
             "colorbar": {
              "outlinewidth": 0,
              "ticks": ""
             }
            },
            "type": "scattermapbox"
           }
          ],
          "scatterpolar": [
           {
            "marker": {
             "colorbar": {
              "outlinewidth": 0,
              "ticks": ""
             }
            },
            "type": "scatterpolar"
           }
          ],
          "scatterpolargl": [
           {
            "marker": {
             "colorbar": {
              "outlinewidth": 0,
              "ticks": ""
             }
            },
            "type": "scatterpolargl"
           }
          ],
          "scatterternary": [
           {
            "marker": {
             "colorbar": {
              "outlinewidth": 0,
              "ticks": ""
             }
            },
            "type": "scatterternary"
           }
          ],
          "surface": [
           {
            "colorbar": {
             "outlinewidth": 0,
             "ticks": ""
            },
            "colorscale": [
             [
              0,
              "#0d0887"
             ],
             [
              0.1111111111111111,
              "#46039f"
             ],
             [
              0.2222222222222222,
              "#7201a8"
             ],
             [
              0.3333333333333333,
              "#9c179e"
             ],
             [
              0.4444444444444444,
              "#bd3786"
             ],
             [
              0.5555555555555556,
              "#d8576b"
             ],
             [
              0.6666666666666666,
              "#ed7953"
             ],
             [
              0.7777777777777778,
              "#fb9f3a"
             ],
             [
              0.8888888888888888,
              "#fdca26"
             ],
             [
              1,
              "#f0f921"
             ]
            ],
            "type": "surface"
           }
          ],
          "table": [
           {
            "cells": {
             "fill": {
              "color": "#EBF0F8"
             },
             "line": {
              "color": "white"
             }
            },
            "header": {
             "fill": {
              "color": "#C8D4E3"
             },
             "line": {
              "color": "white"
             }
            },
            "type": "table"
           }
          ]
         },
         "layout": {
          "annotationdefaults": {
           "arrowcolor": "#2a3f5f",
           "arrowhead": 0,
           "arrowwidth": 1
          },
          "coloraxis": {
           "colorbar": {
            "outlinewidth": 0,
            "ticks": ""
           }
          },
          "colorscale": {
           "diverging": [
            [
             0,
             "#8e0152"
            ],
            [
             0.1,
             "#c51b7d"
            ],
            [
             0.2,
             "#de77ae"
            ],
            [
             0.3,
             "#f1b6da"
            ],
            [
             0.4,
             "#fde0ef"
            ],
            [
             0.5,
             "#f7f7f7"
            ],
            [
             0.6,
             "#e6f5d0"
            ],
            [
             0.7,
             "#b8e186"
            ],
            [
             0.8,
             "#7fbc41"
            ],
            [
             0.9,
             "#4d9221"
            ],
            [
             1,
             "#276419"
            ]
           ],
           "sequential": [
            [
             0,
             "#0d0887"
            ],
            [
             0.1111111111111111,
             "#46039f"
            ],
            [
             0.2222222222222222,
             "#7201a8"
            ],
            [
             0.3333333333333333,
             "#9c179e"
            ],
            [
             0.4444444444444444,
             "#bd3786"
            ],
            [
             0.5555555555555556,
             "#d8576b"
            ],
            [
             0.6666666666666666,
             "#ed7953"
            ],
            [
             0.7777777777777778,
             "#fb9f3a"
            ],
            [
             0.8888888888888888,
             "#fdca26"
            ],
            [
             1,
             "#f0f921"
            ]
           ],
           "sequentialminus": [
            [
             0,
             "#0d0887"
            ],
            [
             0.1111111111111111,
             "#46039f"
            ],
            [
             0.2222222222222222,
             "#7201a8"
            ],
            [
             0.3333333333333333,
             "#9c179e"
            ],
            [
             0.4444444444444444,
             "#bd3786"
            ],
            [
             0.5555555555555556,
             "#d8576b"
            ],
            [
             0.6666666666666666,
             "#ed7953"
            ],
            [
             0.7777777777777778,
             "#fb9f3a"
            ],
            [
             0.8888888888888888,
             "#fdca26"
            ],
            [
             1,
             "#f0f921"
            ]
           ]
          },
          "colorway": [
           "#636efa",
           "#EF553B",
           "#00cc96",
           "#ab63fa",
           "#FFA15A",
           "#19d3f3",
           "#FF6692",
           "#B6E880",
           "#FF97FF",
           "#FECB52"
          ],
          "font": {
           "color": "#2a3f5f"
          },
          "geo": {
           "bgcolor": "white",
           "lakecolor": "white",
           "landcolor": "#E5ECF6",
           "showlakes": true,
           "showland": true,
           "subunitcolor": "white"
          },
          "hoverlabel": {
           "align": "left"
          },
          "hovermode": "closest",
          "mapbox": {
           "style": "light"
          },
          "paper_bgcolor": "white",
          "plot_bgcolor": "#E5ECF6",
          "polar": {
           "angularaxis": {
            "gridcolor": "white",
            "linecolor": "white",
            "ticks": ""
           },
           "bgcolor": "#E5ECF6",
           "radialaxis": {
            "gridcolor": "white",
            "linecolor": "white",
            "ticks": ""
           }
          },
          "scene": {
           "xaxis": {
            "backgroundcolor": "#E5ECF6",
            "gridcolor": "white",
            "gridwidth": 2,
            "linecolor": "white",
            "showbackground": true,
            "ticks": "",
            "zerolinecolor": "white"
           },
           "yaxis": {
            "backgroundcolor": "#E5ECF6",
            "gridcolor": "white",
            "gridwidth": 2,
            "linecolor": "white",
            "showbackground": true,
            "ticks": "",
            "zerolinecolor": "white"
           },
           "zaxis": {
            "backgroundcolor": "#E5ECF6",
            "gridcolor": "white",
            "gridwidth": 2,
            "linecolor": "white",
            "showbackground": true,
            "ticks": "",
            "zerolinecolor": "white"
           }
          },
          "shapedefaults": {
           "line": {
            "color": "#2a3f5f"
           }
          },
          "ternary": {
           "aaxis": {
            "gridcolor": "white",
            "linecolor": "white",
            "ticks": ""
           },
           "baxis": {
            "gridcolor": "white",
            "linecolor": "white",
            "ticks": ""
           },
           "bgcolor": "#E5ECF6",
           "caxis": {
            "gridcolor": "white",
            "linecolor": "white",
            "ticks": ""
           }
          },
          "title": {
           "x": 0.05
          },
          "xaxis": {
           "automargin": true,
           "gridcolor": "white",
           "linecolor": "white",
           "ticks": "",
           "title": {
            "standoff": 15
           },
           "zerolinecolor": "white",
           "zerolinewidth": 2
          },
          "yaxis": {
           "automargin": true,
           "gridcolor": "white",
           "linecolor": "white",
           "ticks": "",
           "title": {
            "standoff": 15
           },
           "zerolinecolor": "white",
           "zerolinewidth": 2
          }
         }
        },
        "title": {
         "text": "MObility Index"
        }
       }
      },
      "text/html": [
       "<div>\n",
       "        \n",
       "        \n",
       "            <div id=\"3f97682b-20a3-4877-8809-a264a8c5b915\" class=\"plotly-graph-div\" style=\"height:525px; width:100%;\"></div>\n",
       "            <script type=\"text/javascript\">\n",
       "                require([\"plotly\"], function(Plotly) {\n",
       "                    window.PLOTLYENV=window.PLOTLYENV || {};\n",
       "                    \n",
       "                if (document.getElementById(\"3f97682b-20a3-4877-8809-a264a8c5b915\")) {\n",
       "                    Plotly.newPlot(\n",
       "                        '3f97682b-20a3-4877-8809-a264a8c5b915',\n",
       "                        [{\"lat\": [40.7127753, 42.65257929999999, 42.3129816, 40.844781899999994, 42.1791865, 42.231813200000005, 42.7655231, 42.2312829, 42.1362071, 42.497231400000004, 44.7904203, 42.367875899999994, 42.5440918, 42.2452081, 41.778437200000006, 42.9023958, 44.0107408, 44.5926135, 43.111873700000004, 42.983784299999996, 42.2957321, 43.16305870000001, 44.060742100000006, 40.6528762, 43.840112, 42.757692299999995, 42.980597499999995, 43.284124600000006, 42.915521000000005, 40.6546145, 40.783060299999995, 43.311949600000005, 43.23717979999999, 43.026819, 42.8509838, 41.3911653, 43.408862400000004, 43.482533000000004, 42.5779779, 41.435106899999994, 40.7282239, 42.673664, 40.579531700000004, 41.1489458, 43.0324245, 42.8493445, 42.6550335, 42.379642499999996, 42.7651891, 44.44731420000001, 42.321027, 40.9848784, 41.689749299999995, 42.12563170000001, 42.4575747, 41.858649299999996, 43.6078891, 43.251947200000004, 43.2020024, 41.1220194, 42.8264498, 42.6430846], \"lon\": [-74.0059728, -73.7562317, -78.0195387, -73.86482679999999, -75.8533954, -78.74762079999999, -76.5488232, -79.560344, -76.7798172, -75.62080879999999, -73.60058240000001, -73.5594128, -75.9927652, -74.8741045, -73.74778570000001, -78.8661589, -73.9507728, -74.3387798, -74.4994517, -78.1564432, -74.12399599999999, -74.8741045, -75.9927652, -73.95949399999999, -75.4344727, -77.8367282, -75.80690820000001, -77.74520809999999, -74.4525627, -73.5594128, -73.9712488, -78.74762079999999, -75.4344727, -76.17837390000001, -77.28648790000001, -74.31182120000001, -78.2020387, -76.17837390000001, -75.0611147, -73.7948516, -73.7948516, -73.5594128, -74.1502007, -73.98300290000002, -73.9359821, -73.98300290000002, -74.4994517, -76.8720961, -76.8720961, -74.93020600000001, -77.37837890000002, -72.61511690000002, -74.7805192, -76.36372850000001, -76.5488232, -74.31182120000001, -73.74778570000001, -73.3708696, -77.010385, -73.7948516, -78.0897329, -77.1485163], \"marker\": {\"autocolorscale\": false, \"color\": [-111, -82, -31, -168, 35, -106, -40, -66, -166, -150, -155, -129, -144, -113, 15, 19, -19, -12, -24, -34, -55, -59, -106, -95, -40, -10, -15, 49, 124, 14, -293, 103, -69, 20, -26, 197, 276, -64, -119, -189, -44, -92, -147, 211, 88, -119, -109, -128, -137, -109, -114, 113, 189, 142, -174, 76, -34, -29, -28, -112, -55, -33], \"colorbar\": {\"title\": {\"text\": \"Mobility Index\"}}, \"colorscale\": [[0.0, \"#440154\"], [0.1111111111111111, \"#482878\"], [0.2222222222222222, \"#3e4989\"], [0.3333333333333333, \"#31688e\"], [0.4444444444444444, \"#26828e\"], [0.5555555555555556, \"#1f9e89\"], [0.6666666666666666, \"#35b779\"], [0.7777777777777778, \"#6ece58\"], [0.8888888888888888, \"#b5de2b\"], [1.0, \"#fde725\"]], \"size\": 9}, \"type\": \"scattergeo\"}],\n",
       "                        {\"geo\": {\"countrycolor\": \"rgb(217,217,217)\", \"countrywidth\": 0.5, \"landcolor\": \"rgb(250,250,250)\", \"projection\": {\"type\": \"albers usa\"}, \"scope\": \"usa\", \"showland\": true, \"subunitcolor\": \"rgb(217,217,217)\", \"subunitwidth\": 0.5}, \"template\": {\"data\": {\"bar\": [{\"error_x\": {\"color\": \"#2a3f5f\"}, \"error_y\": {\"color\": \"#2a3f5f\"}, \"marker\": {\"line\": {\"color\": \"#E5ECF6\", \"width\": 0.5}}, \"type\": \"bar\"}], \"barpolar\": [{\"marker\": {\"line\": {\"color\": \"#E5ECF6\", \"width\": 0.5}}, \"type\": \"barpolar\"}], \"carpet\": [{\"aaxis\": {\"endlinecolor\": \"#2a3f5f\", \"gridcolor\": \"white\", \"linecolor\": \"white\", \"minorgridcolor\": \"white\", \"startlinecolor\": \"#2a3f5f\"}, \"baxis\": {\"endlinecolor\": \"#2a3f5f\", \"gridcolor\": \"white\", \"linecolor\": \"white\", \"minorgridcolor\": \"white\", \"startlinecolor\": \"#2a3f5f\"}, \"type\": \"carpet\"}], \"choropleth\": [{\"colorbar\": {\"outlinewidth\": 0, \"ticks\": \"\"}, \"type\": \"choropleth\"}], \"contour\": [{\"colorbar\": {\"outlinewidth\": 0, \"ticks\": \"\"}, \"colorscale\": [[0.0, \"#0d0887\"], [0.1111111111111111, \"#46039f\"], [0.2222222222222222, \"#7201a8\"], [0.3333333333333333, \"#9c179e\"], [0.4444444444444444, \"#bd3786\"], [0.5555555555555556, \"#d8576b\"], [0.6666666666666666, \"#ed7953\"], [0.7777777777777778, \"#fb9f3a\"], [0.8888888888888888, \"#fdca26\"], [1.0, \"#f0f921\"]], \"type\": \"contour\"}], \"contourcarpet\": [{\"colorbar\": {\"outlinewidth\": 0, \"ticks\": \"\"}, \"type\": \"contourcarpet\"}], \"heatmap\": [{\"colorbar\": {\"outlinewidth\": 0, \"ticks\": \"\"}, \"colorscale\": [[0.0, \"#0d0887\"], [0.1111111111111111, \"#46039f\"], [0.2222222222222222, \"#7201a8\"], [0.3333333333333333, \"#9c179e\"], [0.4444444444444444, \"#bd3786\"], [0.5555555555555556, \"#d8576b\"], [0.6666666666666666, \"#ed7953\"], [0.7777777777777778, \"#fb9f3a\"], [0.8888888888888888, \"#fdca26\"], [1.0, \"#f0f921\"]], \"type\": \"heatmap\"}], \"heatmapgl\": [{\"colorbar\": {\"outlinewidth\": 0, \"ticks\": \"\"}, \"colorscale\": [[0.0, \"#0d0887\"], [0.1111111111111111, \"#46039f\"], [0.2222222222222222, \"#7201a8\"], [0.3333333333333333, \"#9c179e\"], [0.4444444444444444, \"#bd3786\"], [0.5555555555555556, \"#d8576b\"], [0.6666666666666666, \"#ed7953\"], [0.7777777777777778, \"#fb9f3a\"], [0.8888888888888888, \"#fdca26\"], [1.0, \"#f0f921\"]], \"type\": \"heatmapgl\"}], \"histogram\": [{\"marker\": {\"colorbar\": {\"outlinewidth\": 0, \"ticks\": \"\"}}, \"type\": \"histogram\"}], \"histogram2d\": [{\"colorbar\": {\"outlinewidth\": 0, \"ticks\": \"\"}, \"colorscale\": [[0.0, \"#0d0887\"], [0.1111111111111111, \"#46039f\"], [0.2222222222222222, \"#7201a8\"], [0.3333333333333333, \"#9c179e\"], [0.4444444444444444, \"#bd3786\"], [0.5555555555555556, \"#d8576b\"], [0.6666666666666666, \"#ed7953\"], [0.7777777777777778, \"#fb9f3a\"], [0.8888888888888888, \"#fdca26\"], [1.0, \"#f0f921\"]], \"type\": \"histogram2d\"}], \"histogram2dcontour\": [{\"colorbar\": {\"outlinewidth\": 0, \"ticks\": \"\"}, \"colorscale\": [[0.0, \"#0d0887\"], [0.1111111111111111, \"#46039f\"], [0.2222222222222222, \"#7201a8\"], [0.3333333333333333, \"#9c179e\"], [0.4444444444444444, \"#bd3786\"], [0.5555555555555556, \"#d8576b\"], [0.6666666666666666, \"#ed7953\"], [0.7777777777777778, \"#fb9f3a\"], [0.8888888888888888, \"#fdca26\"], [1.0, \"#f0f921\"]], \"type\": \"histogram2dcontour\"}], \"mesh3d\": [{\"colorbar\": {\"outlinewidth\": 0, \"ticks\": \"\"}, \"type\": \"mesh3d\"}], \"parcoords\": [{\"line\": {\"colorbar\": {\"outlinewidth\": 0, \"ticks\": \"\"}}, \"type\": \"parcoords\"}], \"pie\": [{\"automargin\": true, \"type\": \"pie\"}], \"scatter\": [{\"marker\": {\"colorbar\": {\"outlinewidth\": 0, \"ticks\": \"\"}}, \"type\": \"scatter\"}], \"scatter3d\": [{\"line\": {\"colorbar\": {\"outlinewidth\": 0, \"ticks\": \"\"}}, \"marker\": {\"colorbar\": {\"outlinewidth\": 0, \"ticks\": \"\"}}, \"type\": \"scatter3d\"}], \"scattercarpet\": [{\"marker\": {\"colorbar\": {\"outlinewidth\": 0, \"ticks\": \"\"}}, \"type\": \"scattercarpet\"}], \"scattergeo\": [{\"marker\": {\"colorbar\": {\"outlinewidth\": 0, \"ticks\": \"\"}}, \"type\": \"scattergeo\"}], \"scattergl\": [{\"marker\": {\"colorbar\": {\"outlinewidth\": 0, \"ticks\": \"\"}}, \"type\": \"scattergl\"}], \"scattermapbox\": [{\"marker\": {\"colorbar\": {\"outlinewidth\": 0, \"ticks\": \"\"}}, \"type\": \"scattermapbox\"}], \"scatterpolar\": [{\"marker\": {\"colorbar\": {\"outlinewidth\": 0, \"ticks\": \"\"}}, \"type\": \"scatterpolar\"}], \"scatterpolargl\": [{\"marker\": {\"colorbar\": {\"outlinewidth\": 0, \"ticks\": \"\"}}, \"type\": \"scatterpolargl\"}], \"scatterternary\": [{\"marker\": {\"colorbar\": {\"outlinewidth\": 0, \"ticks\": \"\"}}, \"type\": \"scatterternary\"}], \"surface\": [{\"colorbar\": {\"outlinewidth\": 0, \"ticks\": \"\"}, \"colorscale\": [[0.0, \"#0d0887\"], [0.1111111111111111, \"#46039f\"], [0.2222222222222222, \"#7201a8\"], [0.3333333333333333, \"#9c179e\"], [0.4444444444444444, \"#bd3786\"], [0.5555555555555556, \"#d8576b\"], [0.6666666666666666, \"#ed7953\"], [0.7777777777777778, \"#fb9f3a\"], [0.8888888888888888, \"#fdca26\"], [1.0, \"#f0f921\"]], \"type\": \"surface\"}], \"table\": [{\"cells\": {\"fill\": {\"color\": \"#EBF0F8\"}, \"line\": {\"color\": \"white\"}}, \"header\": {\"fill\": {\"color\": \"#C8D4E3\"}, \"line\": {\"color\": \"white\"}}, \"type\": \"table\"}]}, \"layout\": {\"annotationdefaults\": {\"arrowcolor\": \"#2a3f5f\", \"arrowhead\": 0, \"arrowwidth\": 1}, \"coloraxis\": {\"colorbar\": {\"outlinewidth\": 0, \"ticks\": \"\"}}, \"colorscale\": {\"diverging\": [[0, \"#8e0152\"], [0.1, \"#c51b7d\"], [0.2, \"#de77ae\"], [0.3, \"#f1b6da\"], [0.4, \"#fde0ef\"], [0.5, \"#f7f7f7\"], [0.6, \"#e6f5d0\"], [0.7, \"#b8e186\"], [0.8, \"#7fbc41\"], [0.9, \"#4d9221\"], [1, \"#276419\"]], \"sequential\": [[0.0, \"#0d0887\"], [0.1111111111111111, \"#46039f\"], [0.2222222222222222, \"#7201a8\"], [0.3333333333333333, \"#9c179e\"], [0.4444444444444444, \"#bd3786\"], [0.5555555555555556, \"#d8576b\"], [0.6666666666666666, \"#ed7953\"], [0.7777777777777778, \"#fb9f3a\"], [0.8888888888888888, \"#fdca26\"], [1.0, \"#f0f921\"]], \"sequentialminus\": [[0.0, \"#0d0887\"], [0.1111111111111111, \"#46039f\"], [0.2222222222222222, \"#7201a8\"], [0.3333333333333333, \"#9c179e\"], [0.4444444444444444, \"#bd3786\"], [0.5555555555555556, \"#d8576b\"], [0.6666666666666666, \"#ed7953\"], [0.7777777777777778, \"#fb9f3a\"], [0.8888888888888888, \"#fdca26\"], [1.0, \"#f0f921\"]]}, \"colorway\": [\"#636efa\", \"#EF553B\", \"#00cc96\", \"#ab63fa\", \"#FFA15A\", \"#19d3f3\", \"#FF6692\", \"#B6E880\", \"#FF97FF\", \"#FECB52\"], \"font\": {\"color\": \"#2a3f5f\"}, \"geo\": {\"bgcolor\": \"white\", \"lakecolor\": \"white\", \"landcolor\": \"#E5ECF6\", \"showlakes\": true, \"showland\": true, \"subunitcolor\": \"white\"}, \"hoverlabel\": {\"align\": \"left\"}, \"hovermode\": \"closest\", \"mapbox\": {\"style\": \"light\"}, \"paper_bgcolor\": \"white\", \"plot_bgcolor\": \"#E5ECF6\", \"polar\": {\"angularaxis\": {\"gridcolor\": \"white\", \"linecolor\": \"white\", \"ticks\": \"\"}, \"bgcolor\": \"#E5ECF6\", \"radialaxis\": {\"gridcolor\": \"white\", \"linecolor\": \"white\", \"ticks\": \"\"}}, \"scene\": {\"xaxis\": {\"backgroundcolor\": \"#E5ECF6\", \"gridcolor\": \"white\", \"gridwidth\": 2, \"linecolor\": \"white\", \"showbackground\": true, \"ticks\": \"\", \"zerolinecolor\": \"white\"}, \"yaxis\": {\"backgroundcolor\": \"#E5ECF6\", \"gridcolor\": \"white\", \"gridwidth\": 2, \"linecolor\": \"white\", \"showbackground\": true, \"ticks\": \"\", \"zerolinecolor\": \"white\"}, \"zaxis\": {\"backgroundcolor\": \"#E5ECF6\", \"gridcolor\": \"white\", \"gridwidth\": 2, \"linecolor\": \"white\", \"showbackground\": true, \"ticks\": \"\", \"zerolinecolor\": \"white\"}}, \"shapedefaults\": {\"line\": {\"color\": \"#2a3f5f\"}}, \"ternary\": {\"aaxis\": {\"gridcolor\": \"white\", \"linecolor\": \"white\", \"ticks\": \"\"}, \"baxis\": {\"gridcolor\": \"white\", \"linecolor\": \"white\", \"ticks\": \"\"}, \"bgcolor\": \"#E5ECF6\", \"caxis\": {\"gridcolor\": \"white\", \"linecolor\": \"white\", \"ticks\": \"\"}}, \"title\": {\"x\": 0.05}, \"xaxis\": {\"automargin\": true, \"gridcolor\": \"white\", \"linecolor\": \"white\", \"ticks\": \"\", \"title\": {\"standoff\": 15}, \"zerolinecolor\": \"white\", \"zerolinewidth\": 2}, \"yaxis\": {\"automargin\": true, \"gridcolor\": \"white\", \"linecolor\": \"white\", \"ticks\": \"\", \"title\": {\"standoff\": 15}, \"zerolinecolor\": \"white\", \"zerolinewidth\": 2}}}, \"title\": {\"text\": \"MObility Index\"}},\n",
       "                        {\"responsive\": true}\n",
       "                    ).then(function(){\n",
       "                            \n",
       "var gd = document.getElementById('3f97682b-20a3-4877-8809-a264a8c5b915');\n",
       "var x = new MutationObserver(function (mutations, observer) {{\n",
       "        var display = window.getComputedStyle(gd).display;\n",
       "        if (!display || display === 'none') {{\n",
       "            console.log([gd, 'removed!']);\n",
       "            Plotly.purge(gd);\n",
       "            observer.disconnect();\n",
       "        }}\n",
       "}});\n",
       "\n",
       "// Listen for the removal of the full notebook cells\n",
       "var notebookContainer = gd.closest('#notebook-container');\n",
       "if (notebookContainer) {{\n",
       "    x.observe(notebookContainer, {childList: true});\n",
       "}}\n",
       "\n",
       "// Listen for the clearing of the current output cell\n",
       "var outputEl = gd.closest('.output');\n",
       "if (outputEl) {{\n",
       "    x.observe(outputEl, {childList: true});\n",
       "}}\n",
       "\n",
       "                        })\n",
       "                };\n",
       "                });\n",
       "            </script>\n",
       "        </div>"
      ]
     },
     "metadata": {},
     "output_type": "display_data"
    }
   ],
   "source": [
    "plotly.offline.iplot({\n",
    "    \"data\": data1,\n",
    "    \"layout\": layout1\n",
    "})"
   ]
  },
  {
   "cell_type": "code",
   "execution_count": null,
   "metadata": {},
   "outputs": [],
   "source": []
  }
 ],
 "metadata": {
  "kernelspec": {
   "display_name": "Python 3",
   "language": "python",
   "name": "python3"
  },
  "language_info": {
   "codemirror_mode": {
    "name": "ipython",
    "version": 3
   },
   "file_extension": ".py",
   "mimetype": "text/x-python",
   "name": "python",
   "nbconvert_exporter": "python",
   "pygments_lexer": "ipython3",
   "version": "3.6.5"
  }
 },
 "nbformat": 4,
 "nbformat_minor": 2
}
